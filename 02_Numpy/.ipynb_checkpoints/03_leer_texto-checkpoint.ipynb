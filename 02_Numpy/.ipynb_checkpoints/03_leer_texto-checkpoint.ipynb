{
 "cells": [
  {
   "cell_type": "code",
   "execution_count": 1,
   "metadata": {},
   "outputs": [],
   "source": [
    "import numpy as np"
   ]
  },
  {
   "cell_type": "code",
   "execution_count": 6,
   "metadata": {},
   "outputs": [],
   "source": [
    "path = './data/salarios.csv'\n",
    "arreglo_salarios = np.genfromtxt(path,delimiter=',')"
   ]
  },
  {
   "cell_type": "code",
   "execution_count": 9,
   "metadata": {},
   "outputs": [
    {
     "data": {
      "text/plain": [
       "array([[ 200.,  250.,  300.,  350.,  500.,  800., 1000., 1200.],\n",
       "       [ 200.,  250.,  300.,  350.,  500.,  800., 1000., 1200.],\n",
       "       [ 200.,  250.,  300.,  350.,  500.,  800., 1000., 1200.],\n",
       "       [ 200.,  250.,  300.,  350.,  500.,  800., 1000., 1200.]])"
      ]
     },
     "execution_count": 9,
     "metadata": {},
     "output_type": "execute_result"
    }
   ],
   "source": [
    "arreglo_salarios"
   ]
  },
  {
   "cell_type": "code",
   "execution_count": 10,
   "metadata": {},
   "outputs": [
    {
     "data": {
      "text/plain": [
       "array([[ 220.,  275.,  330.,  385.,  550.,  880., 1100., 1320.],\n",
       "       [ 220.,  275.,  330.,  385.,  550.,  880., 1100., 1320.],\n",
       "       [ 220.,  275.,  330.,  385.,  550.,  880., 1100., 1320.],\n",
       "       [ 220.,  275.,  330.,  385.,  550.,  880., 1100., 1320.]])"
      ]
     },
     "execution_count": 10,
     "metadata": {},
     "output_type": "execute_result"
    }
   ],
   "source": [
    "arreglo_salarios = arreglo_salarios * 1.1\n",
    "arreglo_salarios"
   ]
  },
  {
   "cell_type": "code",
   "execution_count": 14,
   "metadata": {},
   "outputs": [],
   "source": [
    "np.savetxt(path, arreglo_salarios, delimiter=\",\",fmt='%4d') # Numero de decimales o formato."
   ]
  },
  {
   "cell_type": "code",
   "execution_count": null,
   "metadata": {},
   "outputs": [],
   "source": []
  }
 ],
 "metadata": {
  "kernelspec": {
   "display_name": "Python 3",
   "language": "python",
   "name": "python3"
  },
  "language_info": {
   "codemirror_mode": {
    "name": "ipython",
    "version": 3
   },
   "file_extension": ".py",
   "mimetype": "text/x-python",
   "name": "python",
   "nbconvert_exporter": "python",
   "pygments_lexer": "ipython3",
   "version": "3.7.1"
  }
 },
 "nbformat": 4,
 "nbformat_minor": 2
}

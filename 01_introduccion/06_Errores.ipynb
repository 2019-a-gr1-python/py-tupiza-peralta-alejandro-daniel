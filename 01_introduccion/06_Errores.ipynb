{
 "cells": [
  {
   "cell_type": "markdown",
   "metadata": {},
   "source": [
    "# Errores"
   ]
  },
  {
   "cell_type": "code",
   "execution_count": 1,
   "metadata": {},
   "outputs": [],
   "source": [
    "adrian = {\n",
    "    'nombre':'Adrian'\n",
    "}"
   ]
  },
  {
   "cell_type": "code",
   "execution_count": 3,
   "metadata": {},
   "outputs": [],
   "source": [
    "# adrian['asd'] # KeyError\n",
    "# ++ # SyntaxError\n",
    "# asd.asd # NameError\n",
    "# \"1\"+1  # TypeError"
   ]
  },
  {
   "cell_type": "code",
   "execution_count": 15,
   "metadata": {},
   "outputs": [
    {
     "name": "stdout",
     "output_type": "stream",
     "text": [
      "Adrian\n",
      "Error: 'asd' TYPE o KEY ERROR\n"
     ]
    }
   ],
   "source": [
    "try:\n",
    "    print(adrian['nombre'])\n",
    "    adrian['asd']\n",
    "    \"1\"+1\n",
    "    asd.asd\n",
    "except NameError as nameError:\n",
    "    print(f\"Error: {nameError} NAME ERROR\")\n",
    "except (TypeError, KeyError) as typeError:\n",
    "    print(f\"Error: {typeError} TYPE o KEY ERROR\")\n",
    "except Exception as error:\n",
    "    print(f\"Error: {error} KEY ERROR\")\n",
    "    print(f\"Traceback: {error._traceback_}\")"
   ]
  },
  {
   "cell_type": "code",
   "execution_count": null,
   "metadata": {},
   "outputs": [],
   "source": []
  }
 ],
 "metadata": {
  "kernelspec": {
   "display_name": "Python 3",
   "language": "python",
   "name": "python3"
  },
  "language_info": {
   "codemirror_mode": {
    "name": "ipython",
    "version": 3
   },
   "file_extension": ".py",
   "mimetype": "text/x-python",
   "name": "python",
   "nbconvert_exporter": "python",
   "pygments_lexer": "ipython3",
   "version": "3.7.1"
  }
 },
 "nbformat": 4,
 "nbformat_minor": 2
}

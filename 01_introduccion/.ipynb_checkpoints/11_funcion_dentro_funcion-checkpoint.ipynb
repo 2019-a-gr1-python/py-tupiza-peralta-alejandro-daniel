{
 "cells": [
  {
   "cell_type": "markdown",
   "metadata": {},
   "source": [
    "# Funcion dentro de funcion"
   ]
  },
  {
   "cell_type": "code",
   "execution_count": 14,
   "metadata": {},
   "outputs": [],
   "source": [
    "def calculadora(num_uno, num_dos, operacion = 'sumar'):\n",
    "    \n",
    "    def sumar():\n",
    "        return num_uno + num_dos\n",
    "    \n",
    "    def restar():\n",
    "        return num_uno - num_dos\n",
    "    \n",
    "    def multiplicar():\n",
    "        return num_uno * num_dos\n",
    "    \n",
    "    def dividir():\n",
    "        return num_uno / num_dos\n",
    "    \n",
    "    def switch_operacion():\n",
    "        return {\n",
    "            'sumar':sumar(),\n",
    "            'restar':restar(),\n",
    "            'multiplicar':multiplicar(),\n",
    "            'dividir':dividir(),\n",
    "        }[operacion]\n",
    "    \n",
    "    return switch_operacion()"
   ]
  },
  {
   "cell_type": "code",
   "execution_count": 15,
   "metadata": {},
   "outputs": [
    {
     "data": {
      "text/plain": [
       "3"
      ]
     },
     "execution_count": 15,
     "metadata": {},
     "output_type": "execute_result"
    }
   ],
   "source": [
    "calculadora(1,2)"
   ]
  },
  {
   "cell_type": "code",
   "execution_count": 16,
   "metadata": {},
   "outputs": [
    {
     "data": {
      "text/plain": [
       "-1"
      ]
     },
     "execution_count": 16,
     "metadata": {},
     "output_type": "execute_result"
    }
   ],
   "source": [
    "calculadora(1,2, operacion='restar')"
   ]
  },
  {
   "cell_type": "code",
   "execution_count": 20,
   "metadata": {},
   "outputs": [
    {
     "data": {
      "text/plain": [
       "2"
      ]
     },
     "execution_count": 20,
     "metadata": {},
     "output_type": "execute_result"
    }
   ],
   "source": [
    "calculadora(1,2, operacion='multiplicar')"
   ]
  },
  {
   "cell_type": "code",
   "execution_count": 21,
   "metadata": {},
   "outputs": [
    {
     "name": "stdout",
     "output_type": "stream",
     "text": [
      "Ingresa algoAlejandro\n"
     ]
    },
    {
     "data": {
      "text/plain": [
       "'Alejandro'"
      ]
     },
     "execution_count": 21,
     "metadata": {},
     "output_type": "execute_result"
    }
   ],
   "source": [
    "input('Ingresa algo')"
   ]
  },
  {
   "cell_type": "code",
   "execution_count": null,
   "metadata": {},
   "outputs": [],
   "source": []
  }
 ],
 "metadata": {
  "kernelspec": {
   "display_name": "Python 3",
   "language": "python",
   "name": "python3"
  },
  "language_info": {
   "codemirror_mode": {
    "name": "ipython",
    "version": 3
   },
   "file_extension": ".py",
   "mimetype": "text/x-python",
   "name": "python",
   "nbconvert_exporter": "python",
   "pygments_lexer": "ipython3",
   "version": "3.7.1"
  }
 },
 "nbformat": 4,
 "nbformat_minor": 2
}

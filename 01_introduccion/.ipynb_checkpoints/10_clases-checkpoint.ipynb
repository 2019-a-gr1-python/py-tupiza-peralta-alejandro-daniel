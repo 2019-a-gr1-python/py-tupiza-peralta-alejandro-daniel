{
 "cells": [
  {
   "cell_type": "markdown",
   "metadata": {},
   "source": [
    "# Clases"
   ]
  },
  {
   "cell_type": "code",
   "execution_count": 1,
   "metadata": {},
   "outputs": [],
   "source": [
    "class Nada:\n",
    "    pass"
   ]
  },
  {
   "cell_type": "code",
   "execution_count": 2,
   "metadata": {},
   "outputs": [],
   "source": [
    "una_nada = Nada()"
   ]
  },
  {
   "cell_type": "code",
   "execution_count": 3,
   "metadata": {},
   "outputs": [
    {
     "name": "stdout",
     "output_type": "stream",
     "text": [
      "<__main__.Nada object at 0x106cd82e8>\n"
     ]
    }
   ],
   "source": [
    "print(una_nada)"
   ]
  },
  {
   "cell_type": "code",
   "execution_count": 4,
   "metadata": {},
   "outputs": [
    {
     "name": "stdout",
     "output_type": "stream",
     "text": [
      "<class '__main__.Nada'>\n"
     ]
    }
   ],
   "source": [
    "print(type(una_nada))"
   ]
  },
  {
   "cell_type": "code",
   "execution_count": 109,
   "metadata": {},
   "outputs": [],
   "source": [
    "class Auto:\n",
    "    color = 'negro' # Propiedad publica\n",
    "    placa = '' # Propiedad publica\n",
    "    __numero_calculo = 1024 # Propiedad privada\n",
    "    \n",
    "    def __init__(self, placa): #Constructor\n",
    "        print('Estamos inicializando el Auto')\n",
    "        self.placa = placa\n",
    "        \n",
    "    def __str__(self): # OVERRIDE -> devuelve un 'str'\n",
    "        return f'Color: {self.color}\\n'+f'Placa: {self.placa}'\n",
    "    \n",
    "    def calcular_impuesto(self, anio): #Metodo publico\n",
    "        total_a_pagar = self._calculo(anio)\n",
    "        print(f'Su impuesto a pagar es: {total_a_pagar}')\n",
    "        return total_a_pagar\n",
    "    \n",
    "    def _calculo(self,anio): # Metodo privado\n",
    "        return (anio / 2) + self.__numero_calculo"
   ]
  },
  {
   "cell_type": "code",
   "execution_count": 103,
   "metadata": {},
   "outputs": [
    {
     "name": "stdout",
     "output_type": "stream",
     "text": [
      "Estamos inicializando el Auto\n"
     ]
    }
   ],
   "source": [
    "coche = Auto('PIK-1234')"
   ]
  },
  {
   "cell_type": "code",
   "execution_count": 104,
   "metadata": {},
   "outputs": [
    {
     "data": {
      "text/plain": [
       "'negro'"
      ]
     },
     "execution_count": 104,
     "metadata": {},
     "output_type": "execute_result"
    }
   ],
   "source": [
    "coche.color"
   ]
  },
  {
   "cell_type": "code",
   "execution_count": 105,
   "metadata": {},
   "outputs": [
    {
     "data": {
      "text/plain": [
       "'PIK-1234'"
      ]
     },
     "execution_count": 105,
     "metadata": {},
     "output_type": "execute_result"
    }
   ],
   "source": [
    "coche.placa"
   ]
  },
  {
   "cell_type": "code",
   "execution_count": 106,
   "metadata": {},
   "outputs": [
    {
     "name": "stdout",
     "output_type": "stream",
     "text": [
      "Color: negro\n",
      "Placa: PIK-1234\n"
     ]
    }
   ],
   "source": [
    "print(coche)"
   ]
  },
  {
   "cell_type": "code",
   "execution_count": 107,
   "metadata": {},
   "outputs": [
    {
     "name": "stdout",
     "output_type": "stream",
     "text": [
      "Su impuesto a pagar es: 1974.0\n"
     ]
    },
    {
     "data": {
      "text/plain": [
       "1974.0"
      ]
     },
     "execution_count": 107,
     "metadata": {},
     "output_type": "execute_result"
    }
   ],
   "source": [
    "coche.calcular_impuesto(1900)"
   ]
  },
  {
   "cell_type": "code",
   "execution_count": 101,
   "metadata": {},
   "outputs": [
    {
     "data": {
      "text/plain": [
       "1024"
      ]
     },
     "execution_count": 101,
     "metadata": {},
     "output_type": "execute_result"
    }
   ],
   "source": [
    "coche._Auto__numero_calculo"
   ]
  },
  {
   "cell_type": "code",
   "execution_count": 136,
   "metadata": {},
   "outputs": [],
   "source": [
    "class BMW(Auto):\n",
    "    \n",
    "    def __init__(self, placa, hp_motor = 5000):\n",
    "        super().__init__(placa)\n",
    "        self.hp_motor = hp_motor # Inicializando propiedades\n",
    "    \n",
    "    def __str__(self):\n",
    "        print(self._calculo(9999))\n",
    "        return f'Color: {self.color}\\nPlaca: {self.placa}\\nHP Motor: {self.hp_motor}'"
   ]
  },
  {
   "cell_type": "code",
   "execution_count": 137,
   "metadata": {},
   "outputs": [
    {
     "name": "stdout",
     "output_type": "stream",
     "text": [
      "Estamos inicializando el Auto\n"
     ]
    }
   ],
   "source": [
    "nuevo_bmw = BMW('PHC-4433')"
   ]
  },
  {
   "cell_type": "code",
   "execution_count": 112,
   "metadata": {},
   "outputs": [
    {
     "data": {
      "text/plain": [
       "'PHC-4433'"
      ]
     },
     "execution_count": 112,
     "metadata": {},
     "output_type": "execute_result"
    }
   ],
   "source": [
    "nuevo_bmw.placa"
   ]
  },
  {
   "cell_type": "code",
   "execution_count": 114,
   "metadata": {},
   "outputs": [
    {
     "name": "stdout",
     "output_type": "stream",
     "text": [
      "Su impuesto a pagar es: 1625.5\n"
     ]
    },
    {
     "data": {
      "text/plain": [
       "1625.5"
      ]
     },
     "execution_count": 114,
     "metadata": {},
     "output_type": "execute_result"
    }
   ],
   "source": [
    "nuevo_bmw.calcular_impuesto(1203)"
   ]
  },
  {
   "cell_type": "code",
   "execution_count": 138,
   "metadata": {},
   "outputs": [
    {
     "name": "stdout",
     "output_type": "stream",
     "text": [
      "6023.5\n",
      "Color: negro\n",
      "Placa: PHC-4433\n",
      "HP Motor: 5000\n"
     ]
    }
   ],
   "source": [
    "print(nuevo_bmw)"
   ]
  },
  {
   "cell_type": "code",
   "execution_count": null,
   "metadata": {},
   "outputs": [],
   "source": []
  }
 ],
 "metadata": {
  "kernelspec": {
   "display_name": "Python 3",
   "language": "python",
   "name": "python3"
  },
  "language_info": {
   "codemirror_mode": {
    "name": "ipython",
    "version": 3
   },
   "file_extension": ".py",
   "mimetype": "text/x-python",
   "name": "python",
   "nbconvert_exporter": "python",
   "pygments_lexer": "ipython3",
   "version": "3.7.1"
  }
 },
 "nbformat": 4,
 "nbformat_minor": 2
}

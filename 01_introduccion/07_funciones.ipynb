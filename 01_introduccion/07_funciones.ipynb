{
 "cells": [
  {
   "cell_type": "markdown",
   "metadata": {},
   "source": [
    "# Funciones"
   ]
  },
  {
   "cell_type": "code",
   "execution_count": 1,
   "metadata": {},
   "outputs": [],
   "source": [
    "def hola_mundo():\n",
    "    print('Hola Mundo')"
   ]
  },
  {
   "cell_type": "code",
   "execution_count": 2,
   "metadata": {},
   "outputs": [
    {
     "name": "stdout",
     "output_type": "stream",
     "text": [
      "Hola Mundo\n"
     ]
    }
   ],
   "source": [
    "hola_mundo()"
   ]
  },
  {
   "cell_type": "code",
   "execution_count": 5,
   "metadata": {},
   "outputs": [
    {
     "name": "stdout",
     "output_type": "stream",
     "text": [
      "Hola Mundo\n"
     ]
    },
    {
     "data": {
      "text/plain": [
       "NoneType"
      ]
     },
     "execution_count": 5,
     "metadata": {},
     "output_type": "execute_result"
    }
   ],
   "source": [
    "type(hola_mundo())"
   ]
  },
  {
   "cell_type": "code",
   "execution_count": 6,
   "metadata": {},
   "outputs": [
    {
     "data": {
      "text/plain": [
       "function"
      ]
     },
     "execution_count": 6,
     "metadata": {},
     "output_type": "execute_result"
    }
   ],
   "source": [
    "type(hola_mundo)"
   ]
  },
  {
   "cell_type": "code",
   "execution_count": 15,
   "metadata": {},
   "outputs": [],
   "source": [
    "def sumar_dos_numeros(num_uno,num_dos): # Parametro Requeridos\n",
    "    return num_uno + num_dos"
   ]
  },
  {
   "cell_type": "code",
   "execution_count": 9,
   "metadata": {},
   "outputs": [
    {
     "name": "stdout",
     "output_type": "stream",
     "text": [
      "3\n",
      "<class 'int'>\n"
     ]
    }
   ],
   "source": [
    "print(sumar_dos_numeros(1,2))\n",
    "print(type(sumar_dos_numeros(1,2)))"
   ]
  },
  {
   "cell_type": "code",
   "execution_count": 16,
   "metadata": {},
   "outputs": [],
   "source": [
    "def imprimir_universidad(nombre = \"EPN\"): # Parametros Opcionales\n",
    "    print(f\"Universidad: {nombre}\")"
   ]
  },
  {
   "cell_type": "code",
   "execution_count": 17,
   "metadata": {},
   "outputs": [
    {
     "name": "stdout",
     "output_type": "stream",
     "text": [
      "Universidad: ESPE\n"
     ]
    }
   ],
   "source": [
    "imprimir_universidad('ESPE')"
   ]
  },
  {
   "cell_type": "code",
   "execution_count": 19,
   "metadata": {},
   "outputs": [],
   "source": [
    "def imprimir_carro(color,placa,hp,anio):\n",
    "    print(f\"Color:{color} \")\n",
    "    print(f\"Placa:{placa} \")\n",
    "    print(f\"Caballos de Fuerza:{hp} \")\n",
    "    print(f\"Año:{anio} \")"
   ]
  },
  {
   "cell_type": "code",
   "execution_count": 20,
   "metadata": {},
   "outputs": [
    {
     "name": "stdout",
     "output_type": "stream",
     "text": [
      "Color:Azul \n",
      "Placa:PIK-0912 \n",
      "Caballos de Fuerza:3000.0 \n",
      "Año:2015 \n"
     ]
    }
   ],
   "source": [
    "imprimir_carro('Azul','PIK-0912',3000.00,2015)"
   ]
  },
  {
   "cell_type": "code",
   "execution_count": 25,
   "metadata": {},
   "outputs": [
    {
     "name": "stdout",
     "output_type": "stream",
     "text": [
      "Color:Negro \n",
      "Placa:PIG-1010 \n",
      "Caballos de Fuerza:2000.0 \n",
      "Año:2016 \n"
     ]
    }
   ],
   "source": [
    "# Named Parameters\n",
    "imprimir_carro(color='Negro',\n",
    "               placa='PIG-1010',\n",
    "              hp=2000.00,\n",
    "              anio=2016)"
   ]
  },
  {
   "cell_type": "code",
   "execution_count": 26,
   "metadata": {},
   "outputs": [
    {
     "name": "stdout",
     "output_type": "stream",
     "text": [
      "Color:Negro \n",
      "Placa:PIG-1010 \n",
      "Caballos de Fuerza:2000.0 \n",
      "Año:2016 \n"
     ]
    }
   ],
   "source": [
    "# Named Parameters\n",
    "imprimir_carro(placa='PIG-1010',\n",
    "               color='Negro',\n",
    "               hp=2000.00,\n",
    "               anio=2016)"
   ]
  },
  {
   "cell_type": "code",
   "execution_count": 30,
   "metadata": {},
   "outputs": [
    {
     "name": "stdout",
     "output_type": "stream",
     "text": [
      "Color:Negro \n",
      "Placa:PKJ-1927 \n",
      "Caballos de Fuerza:2000.0 \n",
      "Año:2016 \n"
     ]
    }
   ],
   "source": [
    "# Named Parameters Position Parameters\n",
    "imprimir_carro('Negro',\n",
    "               'PKJ-1927',\n",
    "               hp=2000.00,\n",
    "               anio=2016)"
   ]
  },
  {
   "cell_type": "code",
   "execution_count": 42,
   "metadata": {},
   "outputs": [],
   "source": [
    "def sumar_numeros(primer_numero, *numeros): # Parametros Infinitos\n",
    "    print(type(primer_numero))\n",
    "    print(type(numeros))\n",
    "    total = 0\n",
    "    for numero in numeros:\n",
    "        print(f\"Numero:{numero}\")\n",
    "        total += numero\n",
    "    return primer_numero + total"
   ]
  },
  {
   "cell_type": "code",
   "execution_count": 41,
   "metadata": {},
   "outputs": [
    {
     "name": "stdout",
     "output_type": "stream",
     "text": [
      "<class 'int'>\n",
      "<class 'tuple'>\n",
      "Numero:2\n",
      "Numero:3\n"
     ]
    },
    {
     "data": {
      "text/plain": [
       "6"
      ]
     },
     "execution_count": 41,
     "metadata": {},
     "output_type": "execute_result"
    }
   ],
   "source": [
    "sumar_numeros(1,2,3)"
   ]
  },
  {
   "cell_type": "code",
   "execution_count": 72,
   "metadata": {},
   "outputs": [],
   "source": [
    "def libreria(nombre,conexion, **key_word_arguments):\n",
    "    print(f\"Nombre: {nombre}\")\n",
    "    print(f\"Conexion:{conexion} \")\n",
    "    print(type(key_word_arguments))\n",
    "    for key in key_word_arguments.keys():\n",
    "        print(f\"{key.capitalize()} : {key_word_arguments[key]}\")"
   ]
  },
  {
   "cell_type": "code",
   "execution_count": 73,
   "metadata": {},
   "outputs": [
    {
     "name": "stdout",
     "output_type": "stream",
     "text": [
      "Nombre: JS\n",
      "Conexion:192.168.0.1 \n",
      "<class 'dict'>\n",
      "Puerto : 3000\n",
      "Version : 1.0\n"
     ]
    }
   ],
   "source": [
    "libreria('JS',\n",
    "         '192.168.0.1',\n",
    "         puerto=3000,\n",
    "        version='1.0')"
   ]
  },
  {
   "cell_type": "code",
   "execution_count": 80,
   "metadata": {},
   "outputs": [],
   "source": [
    "def funcion_completa(requerido,\n",
    "                     opcional='valor',\n",
    "                    *infinitos,\n",
    "                    **kwargs):\n",
    "    print(f'Requerido: {requerido}')\n",
    "    print(f'Opcional: {opcional}')\n",
    "    for x in infinitos:\n",
    "        print(f\"Infinito: {x}\")\n",
    "    for key in kwargs.keys():\n",
    "        print(f\"{key.capitalize()}: {kwargs[key]}\")"
   ]
  },
  {
   "cell_type": "code",
   "execution_count": 81,
   "metadata": {},
   "outputs": [
    {
     "name": "stdout",
     "output_type": "stream",
     "text": [
      "Requerido: 1\n",
      "Opcional: opcional\n",
      "Infinito: 1\n",
      "Infinito: 2\n",
      "Infinito: 3\n",
      "Infinito: 4\n",
      "Infinito: 5\n",
      "Infinito: 6\n",
      "Valor: Valor\n",
      "Llave: Llave\n"
     ]
    }
   ],
   "source": [
    "funcion_completa(1,'opcional',\n",
    "                1,2,3,4,5,6,\n",
    "                valor='Valor',\n",
    "                llave='Llave')"
   ]
  },
  {
   "cell_type": "code",
   "execution_count": null,
   "metadata": {},
   "outputs": [],
   "source": []
  }
 ],
 "metadata": {
  "kernelspec": {
   "display_name": "Python 3",
   "language": "python",
   "name": "python3"
  },
  "language_info": {
   "codemirror_mode": {
    "name": "ipython",
    "version": 3
   },
   "file_extension": ".py",
   "mimetype": "text/x-python",
   "name": "python",
   "nbconvert_exporter": "python",
   "pygments_lexer": "ipython3",
   "version": "3.7.1"
  }
 },
 "nbformat": 4,
 "nbformat_minor": 2
}

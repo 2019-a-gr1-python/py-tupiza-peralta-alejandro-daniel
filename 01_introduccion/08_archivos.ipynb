{
 "cells": [
  {
   "cell_type": "markdown",
   "metadata": {},
   "source": [
    "# Archivos"
   ]
  },
  {
   "cell_type": "code",
   "execution_count": 12,
   "metadata": {},
   "outputs": [
    {
     "name": "stdout",
     "output_type": "stream",
     "text": [
      "<_io.TextIOWrapper name='./08_archivos.txt' mode='r' encoding='UTF-8'>\n",
      "<class '_io.TextIOWrapper'>\n",
      "['Buenos dias\\n', 'Buenas tardes']\n",
      "<class 'list'>\n",
      "Buenos dias\n",
      "\n",
      "Buenas tardes\n"
     ]
    }
   ],
   "source": [
    "try:\n",
    "    path = './08_archivos.txt'\n",
    "    archivo_abierto = open(path)\n",
    "    print(archivo_abierto)\n",
    "    print(type(archivo_abierto))\n",
    "    \n",
    "    #linea_leida_uno = archivo_abierto.readline()\n",
    "    #print(linea_leida_uno)\n",
    "    #print(type(linea_leida_uno))\n",
    "    \n",
    "    #linea_leida_dos = archivo_abierto.readline()\n",
    "    #print(linea_leida_dos)\n",
    "    #print(type(linea_leida_dos))\n",
    "    \n",
    "    lineas_archivo = archivo_abierto.readlines()\n",
    "    print(lineas_archivo)\n",
    "    print(type(lineas_archivo))\n",
    "    \n",
    "    for linea in lineas_archivo:\n",
    "        print(linea)\n",
    "    \n",
    "    archivo_abierto.close\n",
    "        \n",
    "except:\n",
    "    print('Error leyendo archivo')"
   ]
  },
  {
   "cell_type": "code",
   "execution_count": 21,
   "metadata": {},
   "outputs": [],
   "source": [
    "try:\n",
    "    path = './08_archivos.txt'\n",
    "    archivo_escritura_abierto = open(path,mode='a')\n",
    "    # a -> Append y añade el contenido al final\n",
    "    # w -> sobre escribe el contenido\n",
    "    archivo_escritura_abierto.write('Buenas noches\\n') # Sobre escribe el contenido\n",
    "    archivo_escritura_abierto.writelines(['hola\\n','mundo\\n'])\n",
    "    archivo_escritura_abierto.close()\n",
    "except:\n",
    "    print('Error leyendo archivo')"
   ]
  },
  {
   "cell_type": "code",
   "execution_count": null,
   "metadata": {},
   "outputs": [],
   "source": []
  }
 ],
 "metadata": {
  "kernelspec": {
   "display_name": "Python 3",
   "language": "python",
   "name": "python3"
  },
  "language_info": {
   "codemirror_mode": {
    "name": "ipython",
    "version": 3
   },
   "file_extension": ".py",
   "mimetype": "text/x-python",
   "name": "python",
   "nbconvert_exporter": "python",
   "pygments_lexer": "ipython3",
   "version": "3.7.1"
  }
 },
 "nbformat": 4,
 "nbformat_minor": 2
}

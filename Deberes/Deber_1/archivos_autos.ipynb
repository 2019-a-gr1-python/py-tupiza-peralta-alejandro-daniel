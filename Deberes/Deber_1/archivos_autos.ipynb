{
 "cells": [
  {
   "cell_type": "code",
   "execution_count": 4,
   "metadata": {},
   "outputs": [
    {
     "name": "stdout",
     "output_type": "stream",
     "text": [
      "['Nissan;Rojo;PBC-556;17000;1600cc']\n",
      "Nissan;Rojo;PBC-556;17000;1600cc\n"
     ]
    }
   ],
   "source": [
    "try:\n",
    "    path = './autos.txt'\n",
    "    archivo_escritura_abierto = open(path)\n",
    "    \n",
    "    linea_archivo = archivo_escritura_abierto.readlines()\n",
    "    print(linea_archivo)\n",
    "    \n",
    "    for linea in linea_archivo:\n",
    "        print(linea)\n",
    "        \n",
    "    archivo_escritura_abierto.close\n",
    "except:\n",
    "    print('Error...Nose puede leer el archivo')"
   ]
  },
  {
   "cell_type": "code",
   "execution_count": null,
   "metadata": {},
   "outputs": [],
   "source": [
    "try:\n",
    "    path = './autos.txt'\n",
    "    archivo_escritura_abierto = open(path,mode='a')\n",
    "    archivo_escritura_abierto.writelines"
   ]
  },
  {
   "cell_type": "code",
   "execution_count": 8,
   "metadata": {},
   "outputs": [],
   "source": [
    "with open('./autos.txt','r') as archivo:\n",
    "    lineas = archivo.read().splitlines()\n",
    "    lineas.pop(0)\n",
    "    for l in lineas:\n",
    "        linea = l.split(';')\n",
    "        print (linea)"
   ]
  },
  {
   "cell_type": "code",
   "execution_count": 1,
   "metadata": {},
   "outputs": [],
   "source": [
    "def agregar_auto(path,option,*autos):\n",
    "    try:\n",
    "        archivo_escritura_auto = open(path,option)\n",
    "        for linea in autos:\n",
    "            archivo_escritura_auto.write(linea + '\\n')\n",
    "        archivo_escritura_auto.close()\n",
    "        print('Informacion guardada')\n",
    "    except:\n",
    "        print('La informacion no se ha guardado')\n",
    "\n",
    "def leer_archivo_auto(path):\n",
    "    try:\n",
    "        lineas = []\n",
    "        archivo_escritura_auto = open(path)\n",
    "        linea_archivo = archivo_escritura_auto.readlines()\n",
    "        for linea in linea_archivo:\n",
    "            lineas.append(linea)\n",
    "        archivo_escritura_auto.close()\n",
    "        return lineas\n",
    "    except:\n",
    "        print('Error...Nose puede leer el archivo')"
   ]
  },
  {
   "cell_type": "code",
   "execution_count": null,
   "metadata": {},
   "outputs": [],
   "source": []
  }
 ],
 "metadata": {
  "kernelspec": {
   "display_name": "Python 3",
   "language": "python",
   "name": "python3"
  },
  "language_info": {
   "codemirror_mode": {
    "name": "ipython",
    "version": 3
   },
   "file_extension": ".py",
   "mimetype": "text/x-python",
   "name": "python",
   "nbconvert_exporter": "python",
   "pygments_lexer": "ipython3",
   "version": "3.7.1"
  }
 },
 "nbformat": 4,
 "nbformat_minor": 2
}
